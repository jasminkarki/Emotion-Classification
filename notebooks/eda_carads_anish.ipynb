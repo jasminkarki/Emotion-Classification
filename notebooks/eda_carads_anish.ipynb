{
  "nbformat": 4,
  "nbformat_minor": 0,
  "metadata": {
    "colab": {
      "name": "eda_anish.ipynb",
      "provenance": []
    },
    "kernelspec": {
      "name": "python3",
      "display_name": "Python 3"
    },
    "accelerator": "GPU"
  },
  "cells": [
    {
      "cell_type": "code",
      "metadata": {
        "colab": {
          "base_uri": "https://localhost:8080/"
        },
        "id": "oGHd8X-ZWBS0",
        "outputId": "27ecb590-bce0-4575-d3f8-82eb88510cfa"
      },
      "source": [
        "from google.colab import drive\n",
        "drive.mount('/content/gdrive')"
      ],
      "execution_count": 1,
      "outputs": [
        {
          "output_type": "stream",
          "text": [
            "Drive already mounted at /content/gdrive; to attempt to forcibly remount, call drive.mount(\"/content/gdrive\", force_remount=True).\n"
          ],
          "name": "stdout"
        }
      ]
    },
    {
      "cell_type": "code",
      "metadata": {
        "id": "wsvfI_EzWDMO"
      },
      "source": [
        "import os\n",
        "os.environ['KAGGLE_CONFIG_DIR'] = \"/content/gdrive/My Drive/Kaggle\"\n",
        "# /content/gdrive/My Drive/Kaggle is the path where kaggle.json is present in the Google Drive"
      ],
      "execution_count": 2,
      "outputs": []
    },
    {
      "cell_type": "code",
      "metadata": {
        "colab": {
          "base_uri": "https://localhost:8080/"
        },
        "id": "tuigyfINWTgr",
        "outputId": "a17bfd95-1f88-47c1-9a6f-1de29868a7a3"
      },
      "source": [
        "#changing the working directory\n",
        "%cd /content/gdrive/My Drive/Kaggle\n",
        "#Check the present working directory using pwd command"
      ],
      "execution_count": 3,
      "outputs": [
        {
          "output_type": "stream",
          "text": [
            "/content/gdrive/My Drive/Kaggle\n"
          ],
          "name": "stdout"
        }
      ]
    },
    {
      "cell_type": "code",
      "metadata": {
        "id": "BMSy9lwXWZSL"
      },
      "source": [
        "#!kaggle datasets download -d mirosval/personal-cars-classifieds"
      ],
      "execution_count": 4,
      "outputs": []
    },
    {
      "cell_type": "code",
      "metadata": {
        "id": "VPg9QaR-Wl1K"
      },
      "source": [
        "#!ls"
      ],
      "execution_count": 5,
      "outputs": []
    },
    {
      "cell_type": "code",
      "metadata": {
        "id": "1WwcF2s3Wp54"
      },
      "source": [
        "#unzipping the zip files and deleting the zip files\n",
        "#!unzip \\*.zip  && rm *.zip"
      ],
      "execution_count": 6,
      "outputs": []
    },
    {
      "cell_type": "code",
      "metadata": {
        "id": "0X0BtuCfH3jv"
      },
      "source": [
        "import numpy as np\n",
        "import pandas as pd\n",
        "import matplotlib\n",
        "import seaborn as sns\n",
        "import matplotlib.pyplot as plt\n",
        "%matplotlib inline\n",
        "\n",
        "matplotlib.rcParams['figure.figsize'] = (15, 8)\n",
        "sns.set(rc={'figure.figsize':(15,8)})"
      ],
      "execution_count": 7,
      "outputs": []
    },
    {
      "cell_type": "code",
      "metadata": {
        "colab": {
          "base_uri": "https://localhost:8080/"
        },
        "id": "VllRk8QPWvWk",
        "outputId": "133303dd-bd91-4f47-b11e-50ac0d7c94b9"
      },
      "source": [
        "data = pd.read_csv(\"car_ads.csv\")"
      ],
      "execution_count": 8,
      "outputs": [
        {
          "output_type": "stream",
          "text": [
            "/usr/local/lib/python3.6/dist-packages/IPython/core/interactiveshell.py:2718: DtypeWarning: Columns (7,8,10,11,12) have mixed types.Specify dtype option on import or set low_memory=False.\n",
            "  interactivity=interactivity, compiler=compiler, result=result)\n"
          ],
          "name": "stderr"
        }
      ]
    },
    {
      "cell_type": "markdown",
      "metadata": {
        "id": "LD26rJ6AAnHY"
      },
      "source": [
        "- Variable Identification\n",
        "- Univariate Analysis\n",
        "- Bi-variate Analysis\n",
        "- Missing values treatment\n",
        "- Outlier treatment\n",
        "- Variable transformation\n",
        "- Variable creation"
      ]
    },
    {
      "cell_type": "code",
      "metadata": {
        "colab": {
          "base_uri": "https://localhost:8080/",
          "height": 117
        },
        "id": "efBCB4KHXHRC",
        "outputId": "514a855d-df30-4741-f097-21049cab0edb"
      },
      "source": [
        "data.head(1)"
      ],
      "execution_count": 9,
      "outputs": [
        {
          "output_type": "execute_result",
          "data": {
            "text/html": [
              "<div>\n",
              "<style scoped>\n",
              "    .dataframe tbody tr th:only-of-type {\n",
              "        vertical-align: middle;\n",
              "    }\n",
              "\n",
              "    .dataframe tbody tr th {\n",
              "        vertical-align: top;\n",
              "    }\n",
              "\n",
              "    .dataframe thead th {\n",
              "        text-align: right;\n",
              "    }\n",
              "</style>\n",
              "<table border=\"1\" class=\"dataframe\">\n",
              "  <thead>\n",
              "    <tr style=\"text-align: right;\">\n",
              "      <th></th>\n",
              "      <th>maker</th>\n",
              "      <th>model</th>\n",
              "      <th>mileage</th>\n",
              "      <th>manufacture_year</th>\n",
              "      <th>engine_displacement</th>\n",
              "      <th>engine_power</th>\n",
              "      <th>body_type</th>\n",
              "      <th>color_slug</th>\n",
              "      <th>stk_year</th>\n",
              "      <th>transmission</th>\n",
              "      <th>door_count</th>\n",
              "      <th>seat_count</th>\n",
              "      <th>fuel_type</th>\n",
              "      <th>date_created</th>\n",
              "      <th>date_last_seen</th>\n",
              "      <th>price_eur</th>\n",
              "    </tr>\n",
              "  </thead>\n",
              "  <tbody>\n",
              "    <tr>\n",
              "      <th>0</th>\n",
              "      <td>ford</td>\n",
              "      <td>galaxy</td>\n",
              "      <td>151000.0</td>\n",
              "      <td>2011.0</td>\n",
              "      <td>2000.0</td>\n",
              "      <td>103.0</td>\n",
              "      <td>NaN</td>\n",
              "      <td>NaN</td>\n",
              "      <td>None</td>\n",
              "      <td>man</td>\n",
              "      <td>5</td>\n",
              "      <td>7</td>\n",
              "      <td>diesel</td>\n",
              "      <td>2015-11-14 18:10:06.838319+00</td>\n",
              "      <td>2016-01-27 20:40:15.46361+00</td>\n",
              "      <td>10584.75</td>\n",
              "    </tr>\n",
              "  </tbody>\n",
              "</table>\n",
              "</div>"
            ],
            "text/plain": [
              "  maker   model  ...                date_last_seen  price_eur\n",
              "0  ford  galaxy  ...  2016-01-27 20:40:15.46361+00   10584.75\n",
              "\n",
              "[1 rows x 16 columns]"
            ]
          },
          "metadata": {
            "tags": []
          },
          "execution_count": 9
        }
      ]
    },
    {
      "cell_type": "code",
      "metadata": {
        "id": "YcHCeTbmIYGD"
      },
      "source": [
        "#data.dtypes"
      ],
      "execution_count": 10,
      "outputs": []
    },
    {
      "cell_type": "code",
      "metadata": {
        "colab": {
          "base_uri": "https://localhost:8080/"
        },
        "id": "7jnReroUVnPF",
        "outputId": "dbffdade-7016-4d45-a0b4-2cc73d5309db"
      },
      "source": [
        "data.info()"
      ],
      "execution_count": 11,
      "outputs": [
        {
          "output_type": "stream",
          "text": [
            "<class 'pandas.core.frame.DataFrame'>\n",
            "RangeIndex: 3552912 entries, 0 to 3552911\n",
            "Data columns (total 16 columns):\n",
            " #   Column               Dtype  \n",
            "---  ------               -----  \n",
            " 0   maker                object \n",
            " 1   model                object \n",
            " 2   mileage              float64\n",
            " 3   manufacture_year     float64\n",
            " 4   engine_displacement  float64\n",
            " 5   engine_power         float64\n",
            " 6   body_type            object \n",
            " 7   color_slug           object \n",
            " 8   stk_year             object \n",
            " 9   transmission         object \n",
            " 10  door_count           object \n",
            " 11  seat_count           object \n",
            " 12  fuel_type            object \n",
            " 13  date_created         object \n",
            " 14  date_last_seen       object \n",
            " 15  price_eur            float64\n",
            "dtypes: float64(5), object(11)\n",
            "memory usage: 433.7+ MB\n"
          ],
          "name": "stdout"
        }
      ]
    },
    {
      "cell_type": "markdown",
      "metadata": {
        "id": "sNJPU9KkA43N"
      },
      "source": [
        "# Variable Identification:\n",
        " First, identify Predictor (Input) and Target (output) variables. Next, identify the data type and category of the variables.\n",
        "- **Type of variable**: *``maker, model, mileage, manufacture_year, engine_displacement, engine_power, body_type, color_slug, stk_year, transmission, door_count, seat_count, fuel_type, date_created``* and *``date_last_seen``* are predictor variables. *``price_eur``* is the target variable, it is dependent on predictor variables.\n",
        "\n",
        "- **Data type**: Currently, 5 columns are of ```float64``` type and 11 columns are ```object``` type. We will convert columns like ```door_count``` and ```seat_count``` into integers."
      ]
    },
    {
      "cell_type": "code",
      "metadata": {
        "id": "DXBzUf73ItQ1"
      },
      "source": [
        "# door_count and seat_count has None values so we are replacing them with nan to perform fillna in future. We can't convert None to float as well.\n",
        "data['door_count'].replace('None', np.nan, inplace=True)\n",
        "data['seat_count'].replace('None', np.nan, inplace=True)"
      ],
      "execution_count": 12,
      "outputs": []
    },
    {
      "cell_type": "code",
      "metadata": {
        "id": "eNsFRuG1Ivnh"
      },
      "source": [
        "data['door_count'] = data['door_count'].astype('float')\n",
        "data['seat_count'] = data['seat_count'].astype('float')"
      ],
      "execution_count": 13,
      "outputs": []
    },
    {
      "cell_type": "markdown",
      "metadata": {
        "id": "282rW0kFA4sY"
      },
      "source": [
        "# Missing Values Treatment"
      ]
    },
    {
      "cell_type": "markdown",
      "metadata": {
        "id": "DbZw-sacA4oJ"
      },
      "source": [
        "We will first find number of missing values in each column."
      ]
    },
    {
      "cell_type": "code",
      "metadata": {
        "colab": {
          "base_uri": "https://localhost:8080/"
        },
        "id": "4nbMOrjjVx3B",
        "outputId": "e3a0117e-a770-42c0-e159-824777299d3b"
      },
      "source": [
        "data.isnull().sum()"
      ],
      "execution_count": 14,
      "outputs": [
        {
          "output_type": "execute_result",
          "data": {
            "text/plain": [
              "maker                   518915\n",
              "model                  1133361\n",
              "mileage                 362584\n",
              "manufacture_year        370578\n",
              "engine_displacement     743414\n",
              "engine_power            554877\n",
              "body_type              1122914\n",
              "color_slug             3343411\n",
              "stk_year               1708156\n",
              "transmission            741630\n",
              "door_count             1090066\n",
              "seat_count             1287099\n",
              "fuel_type              1847606\n",
              "date_created                 0\n",
              "date_last_seen               0\n",
              "price_eur                    0\n",
              "dtype: int64"
            ]
          },
          "metadata": {
            "tags": []
          },
          "execution_count": 14
        }
      ]
    },
    {
      "cell_type": "code",
      "metadata": {
        "id": "b6ysrxk2XDF6",
        "colab": {
          "base_uri": "https://localhost:8080/",
          "height": 621
        },
        "outputId": "bd0b12d7-99cc-4092-e755-2bcdf095effd"
      },
      "source": [
        "missing = data.isnull().sum()\n",
        "missing = missing[missing > 0]\n",
        "missing.sort_values(inplace=True)\n",
        "missing.plot.bar()"
      ],
      "execution_count": 15,
      "outputs": [
        {
          "output_type": "execute_result",
          "data": {
            "text/plain": [
              "<matplotlib.axes._subplots.AxesSubplot at 0x7ff395812400>"
            ]
          },
          "metadata": {
            "tags": []
          },
          "execution_count": 15
        },
        {
          "output_type": "display_data",
          "data": {
            "image/png": "[encoded data removed]",
            "text/plain": [
              "<Figure size 1080x576 with 1 Axes>"
            ]
          },
          "metadata": {
            "tags": []
          }
        }
      ]
    },
    {
      "cell_type": "markdown",
      "metadata": {
        "id": "X5EK_KzJBQYu"
      },
      "source": [
        "We will now remove the columns with very high number of missing values. Here, we will drop ```stk_year```, ```fuel_type``` and ```color_slug``` as they have high number of missing values."
      ]
    },
    {
      "cell_type": "code",
      "metadata": {
        "colab": {
          "base_uri": "https://localhost:8080/"
        },
        "id": "4MTJtH3zBOqF",
        "outputId": "8ca3688e-874e-4762-e989-68ea6512b3bd"
      },
      "source": [
        "data = data.drop(['stk_year', 'fuel_type', 'color_slug'], axis = 1) \n",
        "data.info()"
      ],
      "execution_count": 16,
      "outputs": [
        {
          "output_type": "stream",
          "text": [
            "<class 'pandas.core.frame.DataFrame'>\n",
            "RangeIndex: 3552912 entries, 0 to 3552911\n",
            "Data columns (total 13 columns):\n",
            " #   Column               Dtype  \n",
            "---  ------               -----  \n",
            " 0   maker                object \n",
            " 1   model                object \n",
            " 2   mileage              float64\n",
            " 3   manufacture_year     float64\n",
            " 4   engine_displacement  float64\n",
            " 5   engine_power         float64\n",
            " 6   body_type            object \n",
            " 7   transmission         object \n",
            " 8   door_count           float64\n",
            " 9   seat_count           float64\n",
            " 10  date_created         object \n",
            " 11  date_last_seen       object \n",
            " 12  price_eur            float64\n",
            "dtypes: float64(7), object(6)\n",
            "memory usage: 352.4+ MB\n"
          ],
          "name": "stdout"
        }
      ]
    },
    {
      "cell_type": "markdown",
      "metadata": {
        "id": "rnNZyRofMK8s"
      },
      "source": [
        "We are dropping the ```date_created``` and ```date_last_seen``` column as they are related to scraping and doesn't contribute to price prediction."
      ]
    },
    {
      "cell_type": "code",
      "metadata": {
        "id": "3kGMKSfSMKru"
      },
      "source": [
        "data = data.drop(['date_created', 'date_last_seen'], axis=1)"
      ],
      "execution_count": 17,
      "outputs": []
    },
    {
      "cell_type": "code",
      "metadata": {
        "colab": {
          "base_uri": "https://localhost:8080/",
          "height": 204
        },
        "id": "7y677EOfMrdV",
        "outputId": "e6834c2a-e1f1-4b3f-8240-37cec406373d"
      },
      "source": [
        "data.head()"
      ],
      "execution_count": 18,
      "outputs": [
        {
          "output_type": "execute_result",
          "data": {
            "text/html": [
              "<div>\n",
              "<style scoped>\n",
              "    .dataframe tbody tr th:only-of-type {\n",
              "        vertical-align: middle;\n",
              "    }\n",
              "\n",
              "    .dataframe tbody tr th {\n",
              "        vertical-align: top;\n",
              "    }\n",
              "\n",
              "    .dataframe thead th {\n",
              "        text-align: right;\n",
              "    }\n",
              "</style>\n",
              "<table border=\"1\" class=\"dataframe\">\n",
              "  <thead>\n",
              "    <tr style=\"text-align: right;\">\n",
              "      <th></th>\n",
              "      <th>maker</th>\n",
              "      <th>model</th>\n",
              "      <th>mileage</th>\n",
              "      <th>manufacture_year</th>\n",
              "      <th>engine_displacement</th>\n",
              "      <th>engine_power</th>\n",
              "      <th>body_type</th>\n",
              "      <th>transmission</th>\n",
              "      <th>door_count</th>\n",
              "      <th>seat_count</th>\n",
              "      <th>price_eur</th>\n",
              "    </tr>\n",
              "  </thead>\n",
              "  <tbody>\n",
              "    <tr>\n",
              "      <th>0</th>\n",
              "      <td>ford</td>\n",
              "      <td>galaxy</td>\n",
              "      <td>151000.0</td>\n",
              "      <td>2011.0</td>\n",
              "      <td>2000.0</td>\n",
              "      <td>103.0</td>\n",
              "      <td>NaN</td>\n",
              "      <td>man</td>\n",
              "      <td>5.0</td>\n",
              "      <td>7.0</td>\n",
              "      <td>10584.75</td>\n",
              "    </tr>\n",
              "    <tr>\n",
              "      <th>1</th>\n",
              "      <td>skoda</td>\n",
              "      <td>octavia</td>\n",
              "      <td>143476.0</td>\n",
              "      <td>2012.0</td>\n",
              "      <td>2000.0</td>\n",
              "      <td>81.0</td>\n",
              "      <td>NaN</td>\n",
              "      <td>man</td>\n",
              "      <td>5.0</td>\n",
              "      <td>5.0</td>\n",
              "      <td>8882.31</td>\n",
              "    </tr>\n",
              "    <tr>\n",
              "      <th>2</th>\n",
              "      <td>bmw</td>\n",
              "      <td>NaN</td>\n",
              "      <td>97676.0</td>\n",
              "      <td>2010.0</td>\n",
              "      <td>1995.0</td>\n",
              "      <td>85.0</td>\n",
              "      <td>NaN</td>\n",
              "      <td>man</td>\n",
              "      <td>5.0</td>\n",
              "      <td>5.0</td>\n",
              "      <td>12065.06</td>\n",
              "    </tr>\n",
              "    <tr>\n",
              "      <th>3</th>\n",
              "      <td>skoda</td>\n",
              "      <td>fabia</td>\n",
              "      <td>111970.0</td>\n",
              "      <td>2004.0</td>\n",
              "      <td>1200.0</td>\n",
              "      <td>47.0</td>\n",
              "      <td>NaN</td>\n",
              "      <td>man</td>\n",
              "      <td>5.0</td>\n",
              "      <td>5.0</td>\n",
              "      <td>2960.77</td>\n",
              "    </tr>\n",
              "    <tr>\n",
              "      <th>4</th>\n",
              "      <td>skoda</td>\n",
              "      <td>fabia</td>\n",
              "      <td>128886.0</td>\n",
              "      <td>2004.0</td>\n",
              "      <td>1200.0</td>\n",
              "      <td>47.0</td>\n",
              "      <td>NaN</td>\n",
              "      <td>man</td>\n",
              "      <td>5.0</td>\n",
              "      <td>5.0</td>\n",
              "      <td>2738.71</td>\n",
              "    </tr>\n",
              "  </tbody>\n",
              "</table>\n",
              "</div>"
            ],
            "text/plain": [
              "   maker    model   mileage  ...  door_count  seat_count  price_eur\n",
              "0   ford   galaxy  151000.0  ...         5.0         7.0   10584.75\n",
              "1  skoda  octavia  143476.0  ...         5.0         5.0    8882.31\n",
              "2    bmw      NaN   97676.0  ...         5.0         5.0   12065.06\n",
              "3  skoda    fabia  111970.0  ...         5.0         5.0    2960.77\n",
              "4  skoda    fabia  128886.0  ...         5.0         5.0    2738.71\n",
              "\n",
              "[5 rows x 11 columns]"
            ]
          },
          "metadata": {
            "tags": []
          },
          "execution_count": 18
        }
      ]
    },
    {
      "cell_type": "markdown",
      "metadata": {
        "id": "-2dhsULUUzs4"
      },
      "source": [
        "**Door count**"
      ]
    },
    {
      "cell_type": "code",
      "metadata": {
        "colab": {
          "base_uri": "https://localhost:8080/"
        },
        "id": "uC4C0nJxM0pb",
        "outputId": "d0de4309-5d54-41dd-96cf-9a270ae60720"
      },
      "source": [
        "data['door_count'].unique()"
      ],
      "execution_count": 19,
      "outputs": [
        {
          "output_type": "execute_result",
          "data": {
            "text/plain": [
              "array([ 5.,  3.,  4., nan,  2.,  6.,  1.,  7.,  9.,  8., 77., 58., 54.,\n",
              "        0., 55., 22., 45., 17., 49.])"
            ]
          },
          "metadata": {
            "tags": []
          },
          "execution_count": 19
        }
      ]
    },
    {
      "cell_type": "code",
      "metadata": {
        "colab": {
          "base_uri": "https://localhost:8080/"
        },
        "id": "aQmfUoAFN0ga",
        "outputId": "061d17cc-87a4-4981-d6f8-db5dabe71498"
      },
      "source": [
        "data['door_count'].value_counts()"
      ],
      "execution_count": 20,
      "outputs": [
        {
          "output_type": "execute_result",
          "data": {
            "text/plain": [
              "4.0     1130741\n",
              "5.0      894084\n",
              "2.0      307824\n",
              "3.0      120593\n",
              "0.0        8010\n",
              "6.0        1253\n",
              "1.0         273\n",
              "7.0          43\n",
              "55.0          9\n",
              "9.0           4\n",
              "8.0           3\n",
              "58.0          3\n",
              "22.0          1\n",
              "17.0          1\n",
              "77.0          1\n",
              "45.0          1\n",
              "49.0          1\n",
              "54.0          1\n",
              "Name: door_count, dtype: int64"
            ]
          },
          "metadata": {
            "tags": []
          },
          "execution_count": 20
        }
      ]
    },
    {
      "cell_type": "markdown",
      "metadata": {
        "id": "yGtC3IEeM9Vb"
      },
      "source": [
        "We will remove data with more than 8 as the value of ```door_count```."
      ]
    },
    {
      "cell_type": "code",
      "metadata": {
        "id": "OR6fgEJqM0bT"
      },
      "source": [
        "data = data.drop(data[data['door_count']  >= 8].index)"
      ],
      "execution_count": 21,
      "outputs": []
    },
    {
      "cell_type": "code",
      "metadata": {
        "id": "HIzOU_9OVxHi"
      },
      "source": [
        "data['door_count'] = data['door_count'].fillna(data['door_count'].mode()[0])"
      ],
      "execution_count": 22,
      "outputs": []
    },
    {
      "cell_type": "markdown",
      "metadata": {
        "id": "jM4TbkwzUwM7"
      },
      "source": [
        "**Seat count**"
      ]
    },
    {
      "cell_type": "code",
      "metadata": {
        "colab": {
          "base_uri": "https://localhost:8080/"
        },
        "id": "UeUik1ihNZMC",
        "outputId": "c896795e-9ab4-4303-b5c2-f6c71c04973a"
      },
      "source": [
        "data['seat_count'].unique()"
      ],
      "execution_count": 23,
      "outputs": [
        {
          "output_type": "execute_result",
          "data": {
            "text/plain": [
              "array([  7.,   5.,   4.,  nan,   6.,   9.,   8.,   2.,   3.,   1.,  18.,\n",
              "        20.,  10.,  11.,  15.,  12.,  16.,  14.,  50.,  17.,  74.,  65.,\n",
              "        19.,  54.,  13.,  27.,  45.,  24.,  56.,  22., 255.,  23.,  57.,\n",
              "        25.,  51.,  55.,  61.,  21.,  53.,  26.,  58.,  30.,  36.,   0.,\n",
              "        29.,  52.,  32.,  44., 512.,  33., 515.,  59.,  85., 517.,  81.,\n",
              "        43.,  49., 138.])"
            ]
          },
          "metadata": {
            "tags": []
          },
          "execution_count": 23
        }
      ]
    },
    {
      "cell_type": "code",
      "metadata": {
        "colab": {
          "base_uri": "https://localhost:8080/"
        },
        "id": "oJUVlhnyOIwV",
        "outputId": "9cc9eb37-64f8-44e2-db8d-e6daa7e74c57"
      },
      "source": [
        "data['seat_count'].value_counts()"
      ],
      "execution_count": 24,
      "outputs": [
        {
          "output_type": "execute_result",
          "data": {
            "text/plain": [
              "5.0      1767856\n",
              "4.0       244797\n",
              "7.0       100744\n",
              "2.0        72684\n",
              "3.0        33606\n",
              "6.0        14174\n",
              "9.0        12574\n",
              "0.0        11690\n",
              "8.0         6754\n",
              "1.0          567\n",
              "17.0          39\n",
              "10.0          35\n",
              "12.0          31\n",
              "14.0          19\n",
              "15.0          19\n",
              "18.0          16\n",
              "19.0          14\n",
              "21.0          13\n",
              "23.0          13\n",
              "45.0          13\n",
              "20.0          13\n",
              "13.0          10\n",
              "50.0           9\n",
              "16.0           9\n",
              "55.0           8\n",
              "11.0           8\n",
              "57.0           7\n",
              "51.0           7\n",
              "58.0           6\n",
              "56.0           5\n",
              "25.0           4\n",
              "54.0           4\n",
              "52.0           3\n",
              "24.0           3\n",
              "29.0           3\n",
              "81.0           3\n",
              "36.0           3\n",
              "53.0           3\n",
              "512.0          2\n",
              "74.0           2\n",
              "27.0           2\n",
              "49.0           2\n",
              "44.0           2\n",
              "33.0           2\n",
              "32.0           2\n",
              "30.0           2\n",
              "255.0          1\n",
              "43.0           1\n",
              "59.0           1\n",
              "61.0           1\n",
              "65.0           1\n",
              "22.0           1\n",
              "85.0           1\n",
              "517.0          1\n",
              "515.0          1\n",
              "138.0          1\n",
              "26.0           1\n",
              "Name: seat_count, dtype: int64"
            ]
          },
          "metadata": {
            "tags": []
          },
          "execution_count": 24
        }
      ]
    },
    {
      "cell_type": "code",
      "metadata": {
        "id": "AHIFaZ3lNato"
      },
      "source": [
        "data = data.drop(data[data['seat_count']  > 9].index)"
      ],
      "execution_count": 25,
      "outputs": []
    },
    {
      "cell_type": "code",
      "metadata": {
        "id": "Itlh7ng4V3lr"
      },
      "source": [
        "data['seat_count'] = data['seat_count'].fillna(data['seat_count'].mode()[0])"
      ],
      "execution_count": 26,
      "outputs": []
    },
    {
      "cell_type": "markdown",
      "metadata": {
        "id": "-6kG97F1RHgb"
      },
      "source": [
        "**Mileage**"
      ]
    },
    {
      "cell_type": "markdown",
      "metadata": {
        "id": "2tOcIHExTAba"
      },
      "source": [
        "As the mileage of a car can't be zero, zero and some values near to it are removed from the data. "
      ]
    },
    {
      "cell_type": "code",
      "metadata": {
        "colab": {
          "base_uri": "https://localhost:8080/"
        },
        "id": "xFcUK6w6P60-",
        "outputId": "a8e02f2a-4c13-4356-eed8-19440cca9f4c"
      },
      "source": [
        "df = data[data['mileage']  < 3]\n",
        "df['mileage'].value_counts()"
      ],
      "execution_count": 27,
      "outputs": [
        {
          "output_type": "execute_result",
          "data": {
            "text/plain": [
              "0.0    162371\n",
              "1.0     34689\n",
              "2.0      7111\n",
              "Name: mileage, dtype: int64"
            ]
          },
          "metadata": {
            "tags": []
          },
          "execution_count": 27
        }
      ]
    },
    {
      "cell_type": "code",
      "metadata": {
        "id": "qQZxc4HNRAp1"
      },
      "source": [
        "data = data.drop(data[data['mileage']  <3].index)"
      ],
      "execution_count": 28,
      "outputs": []
    },
    {
      "cell_type": "code",
      "metadata": {
        "colab": {
          "base_uri": "https://localhost:8080/"
        },
        "id": "wrtfC1o6T-ZA",
        "outputId": "bba5ce9d-e2bd-4d57-9742-fd1f69952753"
      },
      "source": [
        "data['mileage'].isna().sum()"
      ],
      "execution_count": 29,
      "outputs": [
        {
          "output_type": "execute_result",
          "data": {
            "text/plain": [
              "362584"
            ]
          },
          "metadata": {
            "tags": []
          },
          "execution_count": 29
        }
      ]
    },
    {
      "cell_type": "code",
      "metadata": {
        "id": "yBcRQHYZUBQO"
      },
      "source": [
        "data['mileage'].fillna(data['mileage'].mean(), inplace=True)"
      ],
      "execution_count": 30,
      "outputs": []
    },
    {
      "cell_type": "markdown",
      "metadata": {
        "id": "DdcDJ6VgUpjE"
      },
      "source": [
        "**Model**"
      ]
    },
    {
      "cell_type": "code",
      "metadata": {
        "id": "BLSwT9KkUsQy"
      },
      "source": [
        "data['model'].fillna(data['model'].mode()[0], inplace=True)\n",
        "data['model'] = data['model'].astype('str')"
      ],
      "execution_count": 31,
      "outputs": []
    },
    {
      "cell_type": "markdown",
      "metadata": {
        "id": "-R9upzGjUHmT"
      },
      "source": [
        "**Maker**"
      ]
    },
    {
      "cell_type": "code",
      "metadata": {
        "colab": {
          "base_uri": "https://localhost:8080/"
        },
        "id": "kGlhWvuuUG7h",
        "outputId": "e3deb0c7-cfea-4ad1-8721-18b74735e5e9"
      },
      "source": [
        "data['maker'].isna().sum()"
      ],
      "execution_count": 32,
      "outputs": [
        {
          "output_type": "execute_result",
          "data": {
            "text/plain": [
              "488961"
            ]
          },
          "metadata": {
            "tags": []
          },
          "execution_count": 32
        }
      ]
    },
    {
      "cell_type": "code",
      "metadata": {
        "id": "McFWCsHCUQ4e"
      },
      "source": [
        "data['maker'].fillna(data['maker'].mode()[0], inplace=True)\n",
        "data['maker'] = data['maker'].astype('str')"
      ],
      "execution_count": 33,
      "outputs": []
    },
    {
      "cell_type": "markdown",
      "metadata": {
        "id": "ofP_w291UYk_"
      },
      "source": [
        "**Engine Power**"
      ]
    },
    {
      "cell_type": "code",
      "metadata": {
        "colab": {
          "base_uri": "https://localhost:8080/"
        },
        "id": "PBmZ1pYKUd4f",
        "outputId": "179ddcef-a668-4898-b377-d00c60b0ff61"
      },
      "source": [
        "data['engine_power'].isna().sum()"
      ],
      "execution_count": 34,
      "outputs": [
        {
          "output_type": "execute_result",
          "data": {
            "text/plain": [
              "529704"
            ]
          },
          "metadata": {
            "tags": []
          },
          "execution_count": 34
        }
      ]
    },
    {
      "cell_type": "code",
      "metadata": {
        "id": "p5CmULoWUdst"
      },
      "source": [
        "data['engine_power'].fillna(data['engine_power'].mean(), inplace=True)"
      ],
      "execution_count": 35,
      "outputs": []
    },
    {
      "cell_type": "markdown",
      "metadata": {
        "id": "aYKcNFQiRo20"
      },
      "source": [
        "**Manufacture year**"
      ]
    },
    {
      "cell_type": "code",
      "metadata": {
        "id": "kzgNbYXkR9pI"
      },
      "source": [
        "#data[data['manufacture_year'] <1886]['manufacture_year'].value_counts()"
      ],
      "execution_count": 36,
      "outputs": []
    },
    {
      "cell_type": "code",
      "metadata": {
        "id": "OAa6RoSgRoOD"
      },
      "source": [
        "# removing data which has manufacture_year less than 1886 as car was invented in 1886.\n",
        "\n",
        "data = data.drop(data[data['manufacture_year'] <1886].index)"
      ],
      "execution_count": 37,
      "outputs": []
    },
    {
      "cell_type": "markdown",
      "metadata": {
        "id": "jIdcd6n-VWRw"
      },
      "source": [
        "**Engine Displacement**"
      ]
    },
    {
      "cell_type": "code",
      "metadata": {
        "id": "iTHpK6uRVVLT"
      },
      "source": [
        "data['engine_displacement'].fillna(data['engine_displacement'].mean(), inplace=True)"
      ],
      "execution_count": 38,
      "outputs": []
    },
    {
      "cell_type": "markdown",
      "metadata": {
        "id": "sI4eCTyQVcuI"
      },
      "source": [
        "**Body Type**"
      ]
    },
    {
      "cell_type": "code",
      "metadata": {
        "id": "yDALLEwgVeyG"
      },
      "source": [
        "data['body_type'].fillna(data['body_type'].mode()[0], inplace=True)\n",
        "data['body_type'] = data['body_type'].astype('str')"
      ],
      "execution_count": 39,
      "outputs": []
    },
    {
      "cell_type": "markdown",
      "metadata": {
        "id": "elVAQNEOVnbf"
      },
      "source": [
        "**Transmission**"
      ]
    },
    {
      "cell_type": "code",
      "metadata": {
        "id": "fW3AqZDiVl-Y"
      },
      "source": [
        "data['transmission'].fillna(data['transmission'].mode()[0], inplace=True)"
      ],
      "execution_count": 40,
      "outputs": []
    },
    {
      "cell_type": "markdown",
      "metadata": {
        "id": "US-k9DPSZVGe"
      },
      "source": [
        "**Manufacture year**"
      ]
    },
    {
      "cell_type": "code",
      "metadata": {
        "id": "q08kYUnTXR1F"
      },
      "source": [
        "data = data.drop(data[data['manufacture_year'].isnull() == True].index)"
      ],
      "execution_count": 41,
      "outputs": []
    },
    {
      "cell_type": "code",
      "metadata": {
        "colab": {
          "base_uri": "https://localhost:8080/"
        },
        "id": "MZ1P6isoWMHy",
        "outputId": "0fe68398-b11f-4a14-846c-443a1a361615"
      },
      "source": [
        "data.isnull().sum()"
      ],
      "execution_count": 42,
      "outputs": [
        {
          "output_type": "execute_result",
          "data": {
            "text/plain": [
              "maker                  0\n",
              "model                  0\n",
              "mileage                0\n",
              "manufacture_year       0\n",
              "engine_displacement    0\n",
              "engine_power           0\n",
              "body_type              0\n",
              "transmission           0\n",
              "door_count             0\n",
              "seat_count             0\n",
              "price_eur              0\n",
              "dtype: int64"
            ]
          },
          "metadata": {
            "tags": []
          },
          "execution_count": 42
        }
      ]
    },
    {
      "cell_type": "code",
      "metadata": {
        "colab": {
          "base_uri": "https://localhost:8080/",
          "height": 204
        },
        "id": "_zenbJusS0FQ",
        "outputId": "5405e3b8-fc9b-47cf-f8ef-d9048b0c5271"
      },
      "source": [
        "data.head()"
      ],
      "execution_count": 43,
      "outputs": [
        {
          "output_type": "execute_result",
          "data": {
            "text/html": [
              "<div>\n",
              "<style scoped>\n",
              "    .dataframe tbody tr th:only-of-type {\n",
              "        vertical-align: middle;\n",
              "    }\n",
              "\n",
              "    .dataframe tbody tr th {\n",
              "        vertical-align: top;\n",
              "    }\n",
              "\n",
              "    .dataframe thead th {\n",
              "        text-align: right;\n",
              "    }\n",
              "</style>\n",
              "<table border=\"1\" class=\"dataframe\">\n",
              "  <thead>\n",
              "    <tr style=\"text-align: right;\">\n",
              "      <th></th>\n",
              "      <th>maker</th>\n",
              "      <th>model</th>\n",
              "      <th>mileage</th>\n",
              "      <th>manufacture_year</th>\n",
              "      <th>engine_displacement</th>\n",
              "      <th>engine_power</th>\n",
              "      <th>body_type</th>\n",
              "      <th>transmission</th>\n",
              "      <th>door_count</th>\n",
              "      <th>seat_count</th>\n",
              "      <th>price_eur</th>\n",
              "    </tr>\n",
              "  </thead>\n",
              "  <tbody>\n",
              "    <tr>\n",
              "      <th>0</th>\n",
              "      <td>ford</td>\n",
              "      <td>galaxy</td>\n",
              "      <td>151000.0</td>\n",
              "      <td>2011.0</td>\n",
              "      <td>2000.0</td>\n",
              "      <td>103.0</td>\n",
              "      <td>other</td>\n",
              "      <td>man</td>\n",
              "      <td>5.0</td>\n",
              "      <td>7.0</td>\n",
              "      <td>10584.75</td>\n",
              "    </tr>\n",
              "    <tr>\n",
              "      <th>1</th>\n",
              "      <td>skoda</td>\n",
              "      <td>octavia</td>\n",
              "      <td>143476.0</td>\n",
              "      <td>2012.0</td>\n",
              "      <td>2000.0</td>\n",
              "      <td>81.0</td>\n",
              "      <td>other</td>\n",
              "      <td>man</td>\n",
              "      <td>5.0</td>\n",
              "      <td>5.0</td>\n",
              "      <td>8882.31</td>\n",
              "    </tr>\n",
              "    <tr>\n",
              "      <th>2</th>\n",
              "      <td>bmw</td>\n",
              "      <td>octavia</td>\n",
              "      <td>97676.0</td>\n",
              "      <td>2010.0</td>\n",
              "      <td>1995.0</td>\n",
              "      <td>85.0</td>\n",
              "      <td>other</td>\n",
              "      <td>man</td>\n",
              "      <td>5.0</td>\n",
              "      <td>5.0</td>\n",
              "      <td>12065.06</td>\n",
              "    </tr>\n",
              "    <tr>\n",
              "      <th>3</th>\n",
              "      <td>skoda</td>\n",
              "      <td>fabia</td>\n",
              "      <td>111970.0</td>\n",
              "      <td>2004.0</td>\n",
              "      <td>1200.0</td>\n",
              "      <td>47.0</td>\n",
              "      <td>other</td>\n",
              "      <td>man</td>\n",
              "      <td>5.0</td>\n",
              "      <td>5.0</td>\n",
              "      <td>2960.77</td>\n",
              "    </tr>\n",
              "    <tr>\n",
              "      <th>4</th>\n",
              "      <td>skoda</td>\n",
              "      <td>fabia</td>\n",
              "      <td>128886.0</td>\n",
              "      <td>2004.0</td>\n",
              "      <td>1200.0</td>\n",
              "      <td>47.0</td>\n",
              "      <td>other</td>\n",
              "      <td>man</td>\n",
              "      <td>5.0</td>\n",
              "      <td>5.0</td>\n",
              "      <td>2738.71</td>\n",
              "    </tr>\n",
              "  </tbody>\n",
              "</table>\n",
              "</div>"
            ],
            "text/plain": [
              "   maker    model   mileage  ...  door_count  seat_count  price_eur\n",
              "0   ford   galaxy  151000.0  ...         5.0         7.0   10584.75\n",
              "1  skoda  octavia  143476.0  ...         5.0         5.0    8882.31\n",
              "2    bmw  octavia   97676.0  ...         5.0         5.0   12065.06\n",
              "3  skoda    fabia  111970.0  ...         5.0         5.0    2960.77\n",
              "4  skoda    fabia  128886.0  ...         5.0         5.0    2738.71\n",
              "\n",
              "[5 rows x 11 columns]"
            ]
          },
          "metadata": {
            "tags": []
          },
          "execution_count": 43
        }
      ]
    },
    {
      "cell_type": "code",
      "metadata": {
        "id": "0IaPZii2EWda"
      },
      "source": [
        "data['door_count']=data['door_count'].astype('int')"
      ],
      "execution_count": 44,
      "outputs": []
    },
    {
      "cell_type": "code",
      "metadata": {
        "colab": {
          "base_uri": "https://localhost:8080/"
        },
        "id": "x3B3aWizaWaT",
        "outputId": "07577355-d792-44cd-a60c-014c5eabee99"
      },
      "source": [
        "data.info()"
      ],
      "execution_count": 45,
      "outputs": [
        {
          "output_type": "stream",
          "text": [
            "<class 'pandas.core.frame.DataFrame'>\n",
            "Int64Index: 3069090 entries, 0 to 3552910\n",
            "Data columns (total 11 columns):\n",
            " #   Column               Dtype  \n",
            "---  ------               -----  \n",
            " 0   maker                object \n",
            " 1   model                object \n",
            " 2   mileage              float64\n",
            " 3   manufacture_year     float64\n",
            " 4   engine_displacement  float64\n",
            " 5   engine_power         float64\n",
            " 6   body_type            object \n",
            " 7   transmission         object \n",
            " 8   door_count           int64  \n",
            " 9   seat_count           float64\n",
            " 10  price_eur            float64\n",
            "dtypes: float64(6), int64(1), object(4)\n",
            "memory usage: 281.0+ MB\n"
          ],
          "name": "stdout"
        }
      ]
    },
    {
      "cell_type": "markdown",
      "metadata": {
        "id": "In1ekPTfA4z_"
      },
      "source": [
        "# Univariate Analysis"
      ]
    },
    {
      "cell_type": "markdown",
      "metadata": {
        "id": "LcLIMkj1QeRt"
      },
      "source": [
        "- Continuous variable => Histogram, Box plot"
      ]
    },
    {
      "cell_type": "code",
      "metadata": {
        "colab": {
          "base_uri": "https://localhost:8080/",
          "height": 526
        },
        "id": "3bwiJTlGCXwP",
        "outputId": "2e29db99-b7fa-4563-a90e-362162b95a7e"
      },
      "source": [
        "count, bin_edges = np.histogram(data['mileage'])\n",
        "data['mileage'].plot(kind = 'hist', xticks= bin_edges)"
      ],
      "execution_count": 46,
      "outputs": [
        {
          "output_type": "execute_result",
          "data": {
            "text/plain": [
              "<matplotlib.axes._subplots.AxesSubplot at 0x7ff39576e748>"
            ]
          },
          "metadata": {
            "tags": []
          },
          "execution_count": 46
        },
        {
          "output_type": "display_data",
          "data": {
            "image/png": "[encoded data removed]",
            "text/plain": [
              "<Figure size 1080x576 with 1 Axes>"
            ]
          },
          "metadata": {
            "tags": []
          }
        }
      ]
    },
    {
      "cell_type": "code",
      "metadata": {
        "colab": {
          "base_uri": "https://localhost:8080/",
          "height": 513
        },
        "id": "IJeLkic2FrvR",
        "outputId": "cd857d5a-69cf-46db-8b82-10beaafbbfb9"
      },
      "source": [
        "count, bin_edges = np.histogram(data['engine_power'])\n",
        "data['engine_power'].plot(kind = 'hist', xticks= bin_edges)"
      ],
      "execution_count": 47,
      "outputs": [
        {
          "output_type": "execute_result",
          "data": {
            "text/plain": [
              "<matplotlib.axes._subplots.AxesSubplot at 0x7ff395282dd8>"
            ]
          },
          "metadata": {
            "tags": []
          },
          "execution_count": 47
        },
        {
          "output_type": "display_data",
          "data": {
            "image/png": "[encoded data removed]",
            "text/plain": [
              "<Figure size 1080x576 with 1 Axes>"
            ]
          },
          "metadata": {
            "tags": []
          }
        }
      ]
    },
    {
      "cell_type": "code",
      "metadata": {
        "colab": {
          "base_uri": "https://localhost:8080/",
          "height": 513
        },
        "id": "sIwTps5yGboC",
        "outputId": "155be1f6-f68f-4607-a830-9851a4926f25"
      },
      "source": [
        "count, bin_edges = np.histogram(data['engine_displacement'])\n",
        "data['engine_displacement'].plot(kind = 'hist', xticks= bin_edges)"
      ],
      "execution_count": 48,
      "outputs": [
        {
          "output_type": "execute_result",
          "data": {
            "text/plain": [
              "<matplotlib.axes._subplots.AxesSubplot at 0x7ff3951dc940>"
            ]
          },
          "metadata": {
            "tags": []
          },
          "execution_count": 48
        },
        {
          "output_type": "display_data",
          "data": {
            "image/png": "[encoded data removed]",
            "text/plain": [
              "<Figure size 1080x576 with 1 Axes>"
            ]
          },
          "metadata": {
            "tags": []
          }
        }
      ]
    },
    {
      "cell_type": "markdown",
      "metadata": {
        "id": "ZvhlixCIH6Lb"
      },
      "source": [
        "- Categorical Variable => Bar chart"
      ]
    },
    {
      "cell_type": "markdown",
      "metadata": {
        "id": "tYStRq7uA4wf"
      },
      "source": [
        "# Bi-variate Analysis"
      ]
    },
    {
      "cell_type": "markdown",
      "metadata": {
        "id": "6td00RGxQfZB"
      },
      "source": [
        "- Scatter plot: \n",
        "Scatter plot shows the relationship between two variable but does not indicates the strength of relationship amongst them. To find the strength of the relationship, we use Correlation. "
      ]
    },
    {
      "cell_type": "code",
      "metadata": {
        "colab": {
          "base_uri": "https://localhost:8080/"
        },
        "id": "1F77eKBRJTTK",
        "outputId": "628a1b76-e0eb-4c5d-bcbd-9503bb1a696d"
      },
      "source": [
        "data.info()"
      ],
      "execution_count": 49,
      "outputs": [
        {
          "output_type": "stream",
          "text": [
            "<class 'pandas.core.frame.DataFrame'>\n",
            "Int64Index: 3069090 entries, 0 to 3552910\n",
            "Data columns (total 11 columns):\n",
            " #   Column               Dtype  \n",
            "---  ------               -----  \n",
            " 0   maker                object \n",
            " 1   model                object \n",
            " 2   mileage              float64\n",
            " 3   manufacture_year     float64\n",
            " 4   engine_displacement  float64\n",
            " 5   engine_power         float64\n",
            " 6   body_type            object \n",
            " 7   transmission         object \n",
            " 8   door_count           int64  \n",
            " 9   seat_count           float64\n",
            " 10  price_eur            float64\n",
            "dtypes: float64(6), int64(1), object(4)\n",
            "memory usage: 281.0+ MB\n"
          ],
          "name": "stdout"
        }
      ]
    },
    {
      "cell_type": "code",
      "metadata": {
        "id": "lrh801YiCoEn",
        "colab": {
          "base_uri": "https://localhost:8080/",
          "height": 614
        },
        "outputId": "efc7a9b1-fc75-46ae-98b8-991437e8751a"
      },
      "source": [
        "correlation = data.corr()\n",
        "sns.heatmap(data = correlation, annot = True)"
      ],
      "execution_count": 50,
      "outputs": [
        {
          "output_type": "execute_result",
          "data": {
            "text/plain": [
              "<matplotlib.axes._subplots.AxesSubplot at 0x7ff3951654e0>"
            ]
          },
          "metadata": {
            "tags": []
          },
          "execution_count": 50
        },
        {
          "output_type": "display_data",
          "data": {
            "image/png": "[encoded data removed]",
            "text/plain": [
              "<Figure size 1080x576 with 2 Axes>"
            ]
          },
          "metadata": {
            "tags": []
          }
        }
      ]
    },
    {
      "cell_type": "markdown",
      "metadata": {
        "id": "J0UGqUHGA4hX"
      },
      "source": [
        "# Outlier Treatment"
      ]
    },
    {
      "cell_type": "markdown",
      "metadata": {
        "id": "iCmXk29sQqU2"
      },
      "source": [
        ""
      ]
    },
    {
      "cell_type": "markdown",
      "metadata": {
        "id": "TroD6GICQqRb"
      },
      "source": [
        "# Variable Transformation "
      ]
    },
    {
      "cell_type": "markdown",
      "metadata": {
        "id": "CVBDi_y2QxII"
      },
      "source": [
        ""
      ]
    },
    {
      "cell_type": "code",
      "metadata": {
        "id": "abCBrqexfDbD",
        "colab": {
          "base_uri": "https://localhost:8080/",
          "height": 382
        },
        "outputId": "ed0529e5-e172-493e-eaca-ef6c8a7f4abc"
      },
      "source": [
        "data['mileage'] = np.log(data['mileage'])\n",
        "sns.displot(data['mileage'])"
      ],
      "execution_count": 52,
      "outputs": [
        {
          "output_type": "execute_result",
          "data": {
            "text/plain": [
              "<seaborn.axisgrid.FacetGrid at 0x7ff3962b9a20>"
            ]
          },
          "metadata": {
            "tags": []
          },
          "execution_count": 52
        },
        {
          "output_type": "display_data",
          "data": {
            "image/png": "[encoded data removed]",
            "text/plain": [
              "<Figure size 360x360 with 1 Axes>"
            ]
          },
          "metadata": {
            "tags": []
          }
        }
      ]
    },
    {
      "cell_type": "code",
      "metadata": {
        "colab": {
          "base_uri": "https://localhost:8080/"
        },
        "id": "ywLoF2kmQ0iF",
        "outputId": "4ef5f702-9a60-41c8-995f-35a9a78c610b"
      },
      "source": [
        "data['mileage'].value_counts()"
      ],
      "execution_count": 54,
      "outputs": [
        {
          "output_type": "execute_result",
          "data": {
            "text/plain": [
              "11.725772    225358\n",
              "2.302585      75896\n",
              "4.605170      22199\n",
              "11.918391     14083\n",
              "1.609438      12997\n",
              "              ...  \n",
              "11.810159         1\n",
              "12.118023         1\n",
              "11.420777         1\n",
              "11.540161         1\n",
              "12.373340         1\n",
              "Name: mileage, Length: 245555, dtype: int64"
            ]
          },
          "metadata": {
            "tags": []
          },
          "execution_count": 54
        }
      ]
    },
    {
      "cell_type": "markdown",
      "metadata": {
        "id": "gppvTo9GQw-w"
      },
      "source": [
        "# Variable Creation"
      ]
    },
    {
      "cell_type": "code",
      "metadata": {
        "id": "taaCLEZ2XLI2"
      },
      "source": [
        ""
      ],
      "execution_count": 53,
      "outputs": []
    }
  ]
}