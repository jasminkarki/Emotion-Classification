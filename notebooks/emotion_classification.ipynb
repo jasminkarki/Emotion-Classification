{
  "nbformat": 4,
  "nbformat_minor": 0,
  "metadata": {
    "colab": {
      "name": "emotion_classification.ipynb",
      "provenance": [],
      "collapsed_sections": []
    },
    "kernelspec": {
      "name": "python3",
      "display_name": "Python 3"
    },
    "accelerator": "GPU"
  },
  "cells": [
    {
      "cell_type": "code",
      "metadata": {
        "colab": {
          "base_uri": "https://localhost:8080/"
        },
        "id": "Q0B6oM4aB2su",
        "outputId": "93419d3a-9e65-4de4-d719-f5959f1171b6"
      },
      "source": [
        "from google.colab import drive\n",
        "drive.mount('/content/gdrive')"
      ],
      "execution_count": 1,
      "outputs": [
        {
          "output_type": "stream",
          "text": [
            "Drive already mounted at /content/gdrive; to attempt to forcibly remount, call drive.mount(\"/content/gdrive\", force_remount=True).\n"
          ],
          "name": "stdout"
        }
      ]
    },
    {
      "cell_type": "code",
      "metadata": {
        "id": "ZxjsvLmiEg63"
      },
      "source": [
        "import numpy as np\n",
        "import pandas as pd\n",
        "import matplotlib\n",
        "import seaborn as sns\n",
        "import matplotlib.pyplot as plt\n",
        "%matplotlib inline\n",
        "\n",
        "pd.options.mode.use_inf_as_na = True\n",
        "matplotlib.rcParams['figure.figsize'] = (10, 7)"
      ],
      "execution_count": 2,
      "outputs": []
    },
    {
      "cell_type": "code",
      "metadata": {
        "id": "h8xyFp7VEsH6"
      },
      "source": [
        "df = pd.read_csv(\"/content/gdrive/My Drive/ISEAR.csv\", names=['#', 'emotions', 'texts'])"
      ],
      "execution_count": 3,
      "outputs": []
    },
    {
      "cell_type": "code",
      "metadata": {
        "colab": {
          "base_uri": "https://localhost:8080/",
          "height": 204
        },
        "id": "rcX7E0SGEzb9",
        "outputId": "2992c9e7-0e32-4f99-c47e-00193681e7a9"
      },
      "source": [
        "df.head()"
      ],
      "execution_count": 4,
      "outputs": [
        {
          "output_type": "execute_result",
          "data": {
            "text/html": [
              "<div>\n",
              "<style scoped>\n",
              "    .dataframe tbody tr th:only-of-type {\n",
              "        vertical-align: middle;\n",
              "    }\n",
              "\n",
              "    .dataframe tbody tr th {\n",
              "        vertical-align: top;\n",
              "    }\n",
              "\n",
              "    .dataframe thead th {\n",
              "        text-align: right;\n",
              "    }\n",
              "</style>\n",
              "<table border=\"1\" class=\"dataframe\">\n",
              "  <thead>\n",
              "    <tr style=\"text-align: right;\">\n",
              "      <th></th>\n",
              "      <th>#</th>\n",
              "      <th>emotions</th>\n",
              "      <th>texts</th>\n",
              "    </tr>\n",
              "  </thead>\n",
              "  <tbody>\n",
              "    <tr>\n",
              "      <th>0</th>\n",
              "      <td>0</td>\n",
              "      <td>joy</td>\n",
              "      <td>On days when I feel close to my partner and ot...</td>\n",
              "    </tr>\n",
              "    <tr>\n",
              "      <th>1</th>\n",
              "      <td>1</td>\n",
              "      <td>fear</td>\n",
              "      <td>Every time I imagine that someone I love or I ...</td>\n",
              "    </tr>\n",
              "    <tr>\n",
              "      <th>2</th>\n",
              "      <td>2</td>\n",
              "      <td>anger</td>\n",
              "      <td>When I had been obviously unjustly treated and...</td>\n",
              "    </tr>\n",
              "    <tr>\n",
              "      <th>3</th>\n",
              "      <td>3</td>\n",
              "      <td>sadness</td>\n",
              "      <td>When I think about the short time that we live...</td>\n",
              "    </tr>\n",
              "    <tr>\n",
              "      <th>4</th>\n",
              "      <td>4</td>\n",
              "      <td>disgust</td>\n",
              "      <td>At a gathering I found myself involuntarily si...</td>\n",
              "    </tr>\n",
              "  </tbody>\n",
              "</table>\n",
              "</div>"
            ],
            "text/plain": [
              "   # emotions                                              texts\n",
              "0  0      joy  On days when I feel close to my partner and ot...\n",
              "1  1     fear  Every time I imagine that someone I love or I ...\n",
              "2  2    anger  When I had been obviously unjustly treated and...\n",
              "3  3  sadness  When I think about the short time that we live...\n",
              "4  4  disgust  At a gathering I found myself involuntarily si..."
            ]
          },
          "metadata": {
            "tags": []
          },
          "execution_count": 4
        }
      ]
    },
    {
      "cell_type": "markdown",
      "metadata": {
        "id": "cOd2G1RVI54q"
      },
      "source": [
        "## Data cleaning"
      ]
    },
    {
      "cell_type": "code",
      "metadata": {
        "colab": {
          "base_uri": "https://localhost:8080/"
        },
        "id": "ZXndgwPVI5KG",
        "outputId": "3224ae7f-6bda-45c9-f68a-a53a96f2b2e3"
      },
      "source": [
        "df.isna().sum()"
      ],
      "execution_count": 5,
      "outputs": [
        {
          "output_type": "execute_result",
          "data": {
            "text/plain": [
              "#           0\n",
              "emotions    0\n",
              "texts       0\n",
              "dtype: int64"
            ]
          },
          "metadata": {
            "tags": []
          },
          "execution_count": 5
        }
      ]
    },
    {
      "cell_type": "code",
      "metadata": {
        "id": "4GWEB5uNJA3g"
      },
      "source": [
        "df = df.drop(columns='#')"
      ],
      "execution_count": 6,
      "outputs": []
    },
    {
      "cell_type": "code",
      "metadata": {
        "colab": {
          "base_uri": "https://localhost:8080/"
        },
        "id": "Pr-Om2qGFAE6",
        "outputId": "b96bbafe-d13d-4d38-dad0-2390d79a8bad"
      },
      "source": [
        "df.isna().sum()"
      ],
      "execution_count": 7,
      "outputs": [
        {
          "output_type": "execute_result",
          "data": {
            "text/plain": [
              "emotions    0\n",
              "texts       0\n",
              "dtype: int64"
            ]
          },
          "metadata": {
            "tags": []
          },
          "execution_count": 7
        }
      ]
    },
    {
      "cell_type": "code",
      "metadata": {
        "colab": {
          "base_uri": "https://localhost:8080/"
        },
        "id": "v_e8CGcGPA_S",
        "outputId": "ad6dc789-1ed4-45f2-c08e-6059340458a8"
      },
      "source": [
        "df['emotions'].value_counts()"
      ],
      "execution_count": 8,
      "outputs": [
        {
          "output_type": "execute_result",
          "data": {
            "text/plain": [
              "joy        1082\n",
              "sadness    1074\n",
              "anger      1069\n",
              "fear       1063\n",
              "disgust    1059\n",
              "shame      1059\n",
              "guilt      1040\n",
              "Name: emotions, dtype: int64"
            ]
          },
          "metadata": {
            "tags": []
          },
          "execution_count": 8
        }
      ]
    },
    {
      "cell_type": "markdown",
      "metadata": {
        "id": "roB2hgdYOyR8"
      },
      "source": [
        "try\n"
      ]
    },
    {
      "cell_type": "code",
      "metadata": {
        "id": "8vudRIywOhlW"
      },
      "source": [
        "from sklearn.preprocessing import LabelEncoder\n",
        "\n",
        "encoder = LabelEncoder()"
      ],
      "execution_count": 9,
      "outputs": []
    },
    {
      "cell_type": "code",
      "metadata": {
        "id": "vwJTGmPDSXyC"
      },
      "source": [
        "df['emotions'] = encoder.fit_transform(df['emotions'])"
      ],
      "execution_count": 10,
      "outputs": []
    },
    {
      "cell_type": "code",
      "metadata": {
        "colab": {
          "base_uri": "https://localhost:8080/"
        },
        "id": "i21IP5n9Oxp6",
        "outputId": "661d65be-d94b-49e9-d09f-0dd3a1ca077f"
      },
      "source": [
        "df['emotions']"
      ],
      "execution_count": 11,
      "outputs": [
        {
          "output_type": "execute_result",
          "data": {
            "text/plain": [
              "0       4\n",
              "1       2\n",
              "2       0\n",
              "3       5\n",
              "4       1\n",
              "       ..\n",
              "7441    0\n",
              "7442    5\n",
              "7443    1\n",
              "7444    6\n",
              "7445    3\n",
              "Name: emotions, Length: 7446, dtype: int64"
            ]
          },
          "metadata": {
            "tags": []
          },
          "execution_count": 11
        }
      ]
    },
    {
      "cell_type": "code",
      "metadata": {
        "id": "wUD92LHrOhJX"
      },
      "source": [
        "values = [0,1,2,3,4,5,6]\n",
        "mapper = dict(zip( values, encoder.classes_))"
      ],
      "execution_count": 12,
      "outputs": []
    },
    {
      "cell_type": "code",
      "metadata": {
        "colab": {
          "base_uri": "https://localhost:8080/"
        },
        "id": "vEKjid_iRXBJ",
        "outputId": "a4eb883c-fcb3-49d2-cf67-7f5745d8096b"
      },
      "source": [
        "mapper"
      ],
      "execution_count": 13,
      "outputs": [
        {
          "output_type": "execute_result",
          "data": {
            "text/plain": [
              "{0: 'anger',\n",
              " 1: 'disgust',\n",
              " 2: 'fear',\n",
              " 3: 'guilt',\n",
              " 4: 'joy',\n",
              " 5: 'sadness',\n",
              " 6: 'shame'}"
            ]
          },
          "metadata": {
            "tags": []
          },
          "execution_count": 13
        }
      ]
    },
    {
      "cell_type": "code",
      "metadata": {
        "id": "ogkif9naOsjU"
      },
      "source": [
        "data = df[[ 'emotions', 'texts']]"
      ],
      "execution_count": 14,
      "outputs": []
    },
    {
      "cell_type": "code",
      "metadata": {
        "colab": {
          "base_uri": "https://localhost:8080/",
          "height": 204
        },
        "id": "3MLA27l1Rez_",
        "outputId": "11bcf950-5dc7-4c17-ab0e-1c9e28444105"
      },
      "source": [
        "data.head()"
      ],
      "execution_count": 15,
      "outputs": [
        {
          "output_type": "execute_result",
          "data": {
            "text/html": [
              "<div>\n",
              "<style scoped>\n",
              "    .dataframe tbody tr th:only-of-type {\n",
              "        vertical-align: middle;\n",
              "    }\n",
              "\n",
              "    .dataframe tbody tr th {\n",
              "        vertical-align: top;\n",
              "    }\n",
              "\n",
              "    .dataframe thead th {\n",
              "        text-align: right;\n",
              "    }\n",
              "</style>\n",
              "<table border=\"1\" class=\"dataframe\">\n",
              "  <thead>\n",
              "    <tr style=\"text-align: right;\">\n",
              "      <th></th>\n",
              "      <th>emotions</th>\n",
              "      <th>texts</th>\n",
              "    </tr>\n",
              "  </thead>\n",
              "  <tbody>\n",
              "    <tr>\n",
              "      <th>0</th>\n",
              "      <td>4</td>\n",
              "      <td>On days when I feel close to my partner and ot...</td>\n",
              "    </tr>\n",
              "    <tr>\n",
              "      <th>1</th>\n",
              "      <td>2</td>\n",
              "      <td>Every time I imagine that someone I love or I ...</td>\n",
              "    </tr>\n",
              "    <tr>\n",
              "      <th>2</th>\n",
              "      <td>0</td>\n",
              "      <td>When I had been obviously unjustly treated and...</td>\n",
              "    </tr>\n",
              "    <tr>\n",
              "      <th>3</th>\n",
              "      <td>5</td>\n",
              "      <td>When I think about the short time that we live...</td>\n",
              "    </tr>\n",
              "    <tr>\n",
              "      <th>4</th>\n",
              "      <td>1</td>\n",
              "      <td>At a gathering I found myself involuntarily si...</td>\n",
              "    </tr>\n",
              "  </tbody>\n",
              "</table>\n",
              "</div>"
            ],
            "text/plain": [
              "   emotions                                              texts\n",
              "0         4  On days when I feel close to my partner and ot...\n",
              "1         2  Every time I imagine that someone I love or I ...\n",
              "2         0  When I had been obviously unjustly treated and...\n",
              "3         5  When I think about the short time that we live...\n",
              "4         1  At a gathering I found myself involuntarily si..."
            ]
          },
          "metadata": {
            "tags": []
          },
          "execution_count": 15
        }
      ]
    },
    {
      "cell_type": "markdown",
      "metadata": {
        "id": "PZ-md6uqLyu1"
      },
      "source": [
        "\n",
        "## Remove unnecessary symbols from the Phrases"
      ]
    },
    {
      "cell_type": "code",
      "metadata": {
        "id": "UmcVhDTaJOlT"
      },
      "source": [
        "import re\n",
        "def clean_phrase(dataset):\n",
        "    return re.sub(\"[^a-z\\s']+\",\" \",dataset, flags=re.IGNORECASE)\n",
        "data['texts'] = data['texts'].apply(clean_phrase)"
      ],
      "execution_count": 16,
      "outputs": []
    },
    {
      "cell_type": "code",
      "metadata": {
        "colab": {
          "base_uri": "https://localhost:8080/"
        },
        "id": "PRmsTCfNMQYZ",
        "outputId": "2470bd4a-6509-4a34-f4a9-4402241982c6"
      },
      "source": [
        "data.shape"
      ],
      "execution_count": 17,
      "outputs": [
        {
          "output_type": "execute_result",
          "data": {
            "text/plain": [
              "(7446, 2)"
            ]
          },
          "metadata": {
            "tags": []
          },
          "execution_count": 17
        }
      ]
    },
    {
      "cell_type": "markdown",
      "metadata": {
        "id": "MIQUi_bT8Tpg"
      },
      "source": [
        "# Converting to lowercase"
      ]
    },
    {
      "cell_type": "code",
      "metadata": {
        "id": "C7a0expL0YvJ"
      },
      "source": [
        "# converting to lower case.\n",
        "data['texts'] = data['texts'].apply(lambda x: ' '.join\\\n",
        "                                        (x.lower() for x in x.split()))"
      ],
      "execution_count": 18,
      "outputs": []
    },
    {
      "cell_type": "code",
      "metadata": {
        "colab": {
          "base_uri": "https://localhost:8080/",
          "height": 35
        },
        "id": "Lzb7hl4m674a",
        "outputId": "d9b15e12-423d-4ddd-bab5-0710813f7a53"
      },
      "source": [
        "data['texts'][1]"
      ],
      "execution_count": 19,
      "outputs": [
        {
          "output_type": "execute_result",
          "data": {
            "application/vnd.google.colaboratory.intrinsic+json": {
              "type": "string"
            },
            "text/plain": [
              "'every time i imagine that someone i love or i could contact a serious illness even death'"
            ]
          },
          "metadata": {
            "tags": []
          },
          "execution_count": 19
        }
      ]
    },
    {
      "cell_type": "markdown",
      "metadata": {
        "id": "KPdJ3lim8ZdL"
      },
      "source": [
        "#Tokenization, Stopword removal and lemmatization"
      ]
    },
    {
      "cell_type": "code",
      "metadata": {
        "colab": {
          "base_uri": "https://localhost:8080/"
        },
        "id": "sPdvWGxa05ax",
        "outputId": "1d45ef4b-54e6-4fde-ea84-65e28b647c71"
      },
      "source": [
        "# removing symbols\n",
        "#data['texts'] = data['texts'].str.replace('.', '')\n",
        "#data['texts'] = data['texts'].str.replace(',', ' ')\n",
        "import nltk\n",
        "lemmatizer = nltk.stem.WordNetLemmatizer()\n",
        "nltk.download('wordnet')\n",
        "nltk.download('punkt')\n",
        "nltk.download('stopwords')"
      ],
      "execution_count": 20,
      "outputs": [
        {
          "output_type": "stream",
          "text": [
            "[nltk_data] Downloading package wordnet to /root/nltk_data...\n",
            "[nltk_data]   Package wordnet is already up-to-date!\n",
            "[nltk_data] Downloading package punkt to /root/nltk_data...\n",
            "[nltk_data]   Package punkt is already up-to-date!\n",
            "[nltk_data] Downloading package stopwords to /root/nltk_data...\n",
            "[nltk_data]   Package stopwords is already up-to-date!\n"
          ],
          "name": "stdout"
        },
        {
          "output_type": "execute_result",
          "data": {
            "text/plain": [
              "True"
            ]
          },
          "metadata": {
            "tags": []
          },
          "execution_count": 20
        }
      ]
    },
    {
      "cell_type": "code",
      "metadata": {
        "id": "3G3rEoCR6Jm2"
      },
      "source": [
        "from nltk.tokenize import word_tokenize"
      ],
      "execution_count": 21,
      "outputs": []
    },
    {
      "cell_type": "code",
      "metadata": {
        "id": "da2c7_Rk6NK-"
      },
      "source": [
        "data['texts'] = data['texts'].apply(word_tokenize)"
      ],
      "execution_count": 22,
      "outputs": []
    },
    {
      "cell_type": "code",
      "metadata": {
        "colab": {
          "base_uri": "https://localhost:8080/"
        },
        "id": "RgEJkvw77oOO",
        "outputId": "c0d7ff5c-f85d-4c77-8e40-bde66f895242"
      },
      "source": [
        "data['texts'][1]"
      ],
      "execution_count": 23,
      "outputs": [
        {
          "output_type": "execute_result",
          "data": {
            "text/plain": [
              "['every',\n",
              " 'time',\n",
              " 'i',\n",
              " 'imagine',\n",
              " 'that',\n",
              " 'someone',\n",
              " 'i',\n",
              " 'love',\n",
              " 'or',\n",
              " 'i',\n",
              " 'could',\n",
              " 'contact',\n",
              " 'a',\n",
              " 'serious',\n",
              " 'illness',\n",
              " 'even',\n",
              " 'death']"
            ]
          },
          "metadata": {
            "tags": []
          },
          "execution_count": 23
        }
      ]
    },
    {
      "cell_type": "code",
      "metadata": {
        "id": "ssU7Tqix5_Qr"
      },
      "source": [
        "from nltk.corpus import stopwords\n",
        "stop_words = stopwords.words(\"english\")"
      ],
      "execution_count": 24,
      "outputs": []
    },
    {
      "cell_type": "code",
      "metadata": {
        "id": "F0EkAdnt6GRu"
      },
      "source": [
        "data['texts'] = data['texts'].apply(lambda x: [token for token in x if token not in stop_words])"
      ],
      "execution_count": 25,
      "outputs": []
    },
    {
      "cell_type": "code",
      "metadata": {
        "colab": {
          "base_uri": "https://localhost:8080/"
        },
        "id": "MCZTdxDw7vzV",
        "outputId": "ce4848ea-f8bf-4c14-fa75-1fe3971fab29"
      },
      "source": [
        "data['texts'][1]"
      ],
      "execution_count": 26,
      "outputs": [
        {
          "output_type": "execute_result",
          "data": {
            "text/plain": [
              "['every',\n",
              " 'time',\n",
              " 'imagine',\n",
              " 'someone',\n",
              " 'love',\n",
              " 'could',\n",
              " 'contact',\n",
              " 'serious',\n",
              " 'illness',\n",
              " 'even',\n",
              " 'death']"
            ]
          },
          "metadata": {
            "tags": []
          },
          "execution_count": 26
        }
      ]
    },
    {
      "cell_type": "code",
      "metadata": {
        "id": "fbgNaN4Q5LDL"
      },
      "source": [
        "data['texts'] = data['texts'].apply(lambda x: [lemmatizer.lemmatize(token, pos =\"s\") for token in x])"
      ],
      "execution_count": 27,
      "outputs": []
    },
    {
      "cell_type": "code",
      "metadata": {
        "id": "QRi4VTXS55jH"
      },
      "source": [
        "data['texts'] = data['texts'].apply(lambda x: ' '.join(x))"
      ],
      "execution_count": 29,
      "outputs": []
    },
    {
      "cell_type": "code",
      "metadata": {
        "colab": {
          "base_uri": "https://localhost:8080/",
          "height": 35
        },
        "id": "WWTRJ0k470ig",
        "outputId": "f39322a3-a390-49a0-ec01-d411dc58ea03"
      },
      "source": [
        "data['texts'][1]"
      ],
      "execution_count": 30,
      "outputs": [
        {
          "output_type": "execute_result",
          "data": {
            "application/vnd.google.colaboratory.intrinsic+json": {
              "type": "string"
            },
            "text/plain": [
              "'every time imagine someone love could contact serious illness even death'"
            ]
          },
          "metadata": {
            "tags": []
          },
          "execution_count": 30
        }
      ]
    },
    {
      "cell_type": "code",
      "metadata": {
        "colab": {
          "base_uri": "https://localhost:8080/",
          "height": 204
        },
        "id": "RkC5ECfu5u05",
        "outputId": "8e6b1cbf-efe7-48c1-b6c4-334f2695cf91"
      },
      "source": [
        "data.head()"
      ],
      "execution_count": 31,
      "outputs": [
        {
          "output_type": "execute_result",
          "data": {
            "text/html": [
              "<div>\n",
              "<style scoped>\n",
              "    .dataframe tbody tr th:only-of-type {\n",
              "        vertical-align: middle;\n",
              "    }\n",
              "\n",
              "    .dataframe tbody tr th {\n",
              "        vertical-align: top;\n",
              "    }\n",
              "\n",
              "    .dataframe thead th {\n",
              "        text-align: right;\n",
              "    }\n",
              "</style>\n",
              "<table border=\"1\" class=\"dataframe\">\n",
              "  <thead>\n",
              "    <tr style=\"text-align: right;\">\n",
              "      <th></th>\n",
              "      <th>emotions</th>\n",
              "      <th>texts</th>\n",
              "    </tr>\n",
              "  </thead>\n",
              "  <tbody>\n",
              "    <tr>\n",
              "      <th>0</th>\n",
              "      <td>4</td>\n",
              "      <td>days feel close partner friends feel peace als...</td>\n",
              "    </tr>\n",
              "    <tr>\n",
              "      <th>1</th>\n",
              "      <td>2</td>\n",
              "      <td>every time imagine someone love could contact ...</td>\n",
              "    </tr>\n",
              "    <tr>\n",
              "      <th>2</th>\n",
              "      <td>0</td>\n",
              "      <td>obviously unjustly treated possibility elucida...</td>\n",
              "    </tr>\n",
              "    <tr>\n",
              "      <th>3</th>\n",
              "      <td>5</td>\n",
              "      <td>think short time live relate periods life thin...</td>\n",
              "    </tr>\n",
              "    <tr>\n",
              "      <th>4</th>\n",
              "      <td>1</td>\n",
              "      <td>gathering found involuntarily sitting next two...</td>\n",
              "    </tr>\n",
              "  </tbody>\n",
              "</table>\n",
              "</div>"
            ],
            "text/plain": [
              "   emotions                                              texts\n",
              "0         4  days feel close partner friends feel peace als...\n",
              "1         2  every time imagine someone love could contact ...\n",
              "2         0  obviously unjustly treated possibility elucida...\n",
              "3         5  think short time live relate periods life thin...\n",
              "4         1  gathering found involuntarily sitting next two..."
            ]
          },
          "metadata": {
            "tags": []
          },
          "execution_count": 31
        }
      ]
    },
    {
      "cell_type": "markdown",
      "metadata": {
        "id": "zEtUAgnuMqKi"
      },
      "source": [
        "## Visualization"
      ]
    },
    {
      "cell_type": "code",
      "metadata": {
        "id": "OTrQR5sWVlgn"
      },
      "source": [
        "from collections import Counter"
      ],
      "execution_count": 20,
      "outputs": []
    },
    {
      "cell_type": "code",
      "metadata": {
        "id": "Z4s2-deYVsxH"
      },
      "source": [
        "labels_count=Counter(data['emotions']) #Labels count in Dataset"
      ],
      "execution_count": 21,
      "outputs": []
    },
    {
      "cell_type": "code",
      "metadata": {
        "colab": {
          "base_uri": "https://localhost:8080/",
          "height": 459
        },
        "id": "Ux-b2tQLMZEn",
        "outputId": "f72a7c53-3c7d-4a0b-a979-af60b3567639"
      },
      "source": [
        "plt.bar(range(len(labels_count)),list(labels_count.values()),tick_label=list(labels_count.keys()))\n",
        "plt.xlabel(\"Sentiment Types in Dataset\")\n",
        "plt.ylabel(\"Number of Examples\")"
      ],
      "execution_count": 22,
      "outputs": [
        {
          "output_type": "execute_result",
          "data": {
            "text/plain": [
              "Text(0, 0.5, 'Number of Examples')"
            ]
          },
          "metadata": {
            "tags": []
          },
          "execution_count": 22
        },
        {
          "output_type": "display_data",
          "data": {
            "image/png": "[encoded data removed]",
            "text/plain": [
              "<Figure size 720x504 with 1 Axes>"
            ]
          },
          "metadata": {
            "tags": [],
            "needs_background": "light"
          }
        }
      ]
    },
    {
      "cell_type": "markdown",
      "metadata": {
        "id": "ncOW3HMdpknb"
      },
      "source": [
        "# Feature Extraction"
      ]
    },
    {
      "cell_type": "code",
      "metadata": {
        "id": "pjyS0-Y8qbLi"
      },
      "source": [
        "from sklearn.model_selection import train_test_split\n",
        "from sklearn.feature_extraction.text import TfidfVectorizer"
      ],
      "execution_count": 32,
      "outputs": []
    },
    {
      "cell_type": "code",
      "metadata": {
        "id": "gvyFbGUzqUfd"
      },
      "source": [
        "train_df, test_df = train_test_split(df, random_state=64, test_size=0.2)"
      ],
      "execution_count": 33,
      "outputs": []
    },
    {
      "cell_type": "code",
      "metadata": {
        "id": "r-K-7xh4q61x"
      },
      "source": [
        "X_train=train_df.texts.tolist()\n",
        "y_train=train_df.emotions\n",
        "\n",
        "X_test=test_df.texts.tolist()\n",
        "y_test=test_df.emotions"
      ],
      "execution_count": 34,
      "outputs": []
    },
    {
      "cell_type": "code",
      "metadata": {
        "id": "hqh98OX3p8vb"
      },
      "source": [
        "vectorizer=TfidfVectorizer()\n",
        "vectorizer.fit(X_train)\n",
        "X_train_v=vectorizer.transform(X_train)\n",
        "X_test_v=vectorizer.transform(X_test)"
      ],
      "execution_count": 35,
      "outputs": []
    },
    {
      "cell_type": "code",
      "metadata": {
        "colab": {
          "base_uri": "https://localhost:8080/"
        },
        "id": "dPRYuKm_rqs9",
        "outputId": "2b0622e0-04d5-4606-b7ef-1694c8c1efef"
      },
      "source": [
        "X_train_v.shape, y_train.shape"
      ],
      "execution_count": 36,
      "outputs": [
        {
          "output_type": "execute_result",
          "data": {
            "text/plain": [
              "((5956, 7972), (5956,))"
            ]
          },
          "metadata": {
            "tags": []
          },
          "execution_count": 36
        }
      ]
    },
    {
      "cell_type": "code",
      "metadata": {
        "colab": {
          "base_uri": "https://localhost:8080/"
        },
        "id": "IXtk9-ulvnOQ",
        "outputId": "aa90e301-f01f-4fd2-8971-992acc6c5fbe"
      },
      "source": [
        "X_test_v.shape"
      ],
      "execution_count": 37,
      "outputs": [
        {
          "output_type": "execute_result",
          "data": {
            "text/plain": [
              "(1490, 7972)"
            ]
          },
          "metadata": {
            "tags": []
          },
          "execution_count": 37
        }
      ]
    },
    {
      "cell_type": "markdown",
      "metadata": {
        "id": "Y1XxBTR4r-l5"
      },
      "source": [
        "# Baseline Model"
      ]
    },
    {
      "cell_type": "code",
      "metadata": {
        "id": "irf6Lk1budsL"
      },
      "source": [
        "from sklearn.tree import DecisionTreeClassifier\n",
        "from sklearn.model_selection import GridSearchCV\n",
        "from sklearn.metrics import make_scorer,f1_score\n",
        "from sklearn import metrics"
      ],
      "execution_count": 44,
      "outputs": []
    },
    {
      "cell_type": "code",
      "metadata": {
        "id": "uONYs5Bsrx-j"
      },
      "source": [
        "grid_params = {\n",
        "    'max_depth': (3, 5, 7, 9, 11, 13),\n",
        "    'min_samples_split': (2, 4, 6, 8, 10)\n",
        "}"
      ],
      "execution_count": 45,
      "outputs": []
    },
    {
      "cell_type": "code",
      "metadata": {
        "colab": {
          "base_uri": "https://localhost:8080/"
        },
        "id": "jZXPIAiWuH1T",
        "outputId": "699f9bd9-73fa-4f88-c3fa-0862471f4874"
      },
      "source": [
        "scorer=make_scorer(f1_score,average='macro')\n",
        "clf=GridSearchCV(DecisionTreeClassifier(),grid_params,scoring=scorer)\n",
        "clf.fit(X_train_v,y_train)"
      ],
      "execution_count": 46,
      "outputs": [
        {
          "output_type": "execute_result",
          "data": {
            "text/plain": [
              "GridSearchCV(cv=None, error_score=nan,\n",
              "             estimator=DecisionTreeClassifier(ccp_alpha=0.0, class_weight=None,\n",
              "                                              criterion='gini', max_depth=None,\n",
              "                                              max_features=None,\n",
              "                                              max_leaf_nodes=None,\n",
              "                                              min_impurity_decrease=0.0,\n",
              "                                              min_impurity_split=None,\n",
              "                                              min_samples_leaf=1,\n",
              "                                              min_samples_split=2,\n",
              "                                              min_weight_fraction_leaf=0.0,\n",
              "                                              presort='deprecated',\n",
              "                                              random_state=None,\n",
              "                                              splitter='best'),\n",
              "             iid='deprecated', n_jobs=None,\n",
              "             param_grid={'max_depth': (3, 5, 7, 9, 11, 13),\n",
              "                         'min_samples_split': (2, 4, 6, 8, 10)},\n",
              "             pre_dispatch='2*n_jobs', refit=True, return_train_score=False,\n",
              "             scoring=make_scorer(f1_score, average=macro), verbose=0)"
            ]
          },
          "metadata": {
            "tags": []
          },
          "execution_count": 46
        }
      ]
    },
    {
      "cell_type": "code",
      "metadata": {
        "colab": {
          "base_uri": "https://localhost:8080/"
        },
        "id": "UgMZst31uKTT",
        "outputId": "fc5f9005-d75d-40f9-a88c-eafb63791316"
      },
      "source": [
        "print(\"The best score is: {} with params {}\".format(clf.best_score_,clf.best_params_))"
      ],
      "execution_count": 47,
      "outputs": [
        {
          "output_type": "stream",
          "text": [
            "The best score is: 0.3311935800929654 with params {'max_depth': 13, 'min_samples_split': 6}\n"
          ],
          "name": "stdout"
        }
      ]
    },
    {
      "cell_type": "markdown",
      "metadata": {
        "id": "WoosvN3YuQwX"
      },
      "source": [
        "# Model Evaluation"
      ]
    },
    {
      "cell_type": "code",
      "metadata": {
        "colab": {
          "base_uri": "https://localhost:8080/"
        },
        "id": "Vf_f3CvsuQIJ",
        "outputId": "5b1f887e-6213-45d4-a1b0-4f0c078b84fa"
      },
      "source": [
        "model=DecisionTreeClassifier(random_state=1,max_depth=13,min_samples_split=2)\n",
        "model.fit(X_train_v,y_train)\n",
        "y_pred=model.predict(X_test_v)\n",
        "print(metrics.classification_report(y_test,y_pred))"
      ],
      "execution_count": 37,
      "outputs": [
        {
          "output_type": "stream",
          "text": [
            "              precision    recall  f1-score   support\n",
            "\n",
            "           0       0.78      0.13      0.22       315\n",
            "           1       0.96      0.22      0.36       322\n",
            "           2       0.71      0.30      0.42       298\n",
            "           3       0.85      0.18      0.30       311\n",
            "           4       0.19      0.98      0.32       331\n",
            "           5       0.84      0.33      0.48       331\n",
            "           6       0.92      0.17      0.28       326\n",
            "\n",
            "    accuracy                           0.33      2234\n",
            "   macro avg       0.75      0.33      0.34      2234\n",
            "weighted avg       0.75      0.33      0.34      2234\n",
            "\n"
          ],
          "name": "stdout"
        }
      ]
    },
    {
      "cell_type": "code",
      "metadata": {
        "id": "csDJXgAtuWKp"
      },
      "source": [
        "import pickle\n",
        "pickle.dump(model,open(\"dt_sentiment_analysis_saved_model\",\"wb\")) #save model"
      ],
      "execution_count": null,
      "outputs": []
    },
    {
      "cell_type": "markdown",
      "metadata": {
        "id": "9iy8RXQAwJgL"
      },
      "source": [
        "**Grid Search**"
      ]
    },
    {
      "cell_type": "code",
      "metadata": {
        "id": "Avl9xMWwwRJ2"
      },
      "source": [
        "from sklearn.model_selection import GridSearchCV\n",
        "from sklearn.tree import DecisionTreeClassifier\n",
        "from sklearn.ensemble import RandomForestClassifier, AdaBoostClassifier, GradientBoostingClassifier\n",
        "from sklearn.svm import SVC\n",
        "from sklearn.metrics import accuracy_score\n",
        "#from evolutionary_search import EvolutionaryAlgorithmSearchCV\n",
        "from sklearn.metrics import make_scorer, f1_score"
      ],
      "execution_count": 49,
      "outputs": []
    },
    {
      "cell_type": "code",
      "metadata": {
        "id": "bqXkGA8KwKiO"
      },
      "source": [
        "def grid_search_classifier(classifier_class, train_x,train_y,test_x,test_y,grid_params):\n",
        "    print(classifier)\n",
        "    scorer = make_scorer(f1_score, average = 'macro')\n",
        "    clf = GridSearchCV(classifier_class(random_state=1),\n",
        "                      grid_params, scoring = scorer)\n",
        "    \n",
        "    clf.fit(train_x,train_y)\n",
        "    print(clf.best_score_, clf.best_params_)\n",
        "    \n",
        "    best_model = classifier_class(**clf.best_params_)\n",
        "    best_model.fit(train_x, train_y)\n",
        "    y_preds_final = best_model.predict(test_x)\n",
        "    accuracy= f1_score(test_y,y_preds_final,average='macro')\n",
        "    return accuracy"
      ],
      "execution_count": 50,
      "outputs": []
    },
    {
      "cell_type": "code",
      "metadata": {
        "id": "0GmWCr98wUT3"
      },
      "source": [
        "classifiers_to_try_out = [\n",
        "    (AdaBoostClassifier,\n",
        "    {'n_estimators': [20,100]}\n",
        "    ),\n",
        "    (DecisionTreeClassifier,\n",
        "    {'max_depth': [7, 19], 'min_samples_split': [2, 4]}\n",
        "    ),\n",
        "    (RandomForestClassifier,\n",
        "    {'n_estimators': [30],'criterion':['gini','entropy']}\n",
        "    ),\n",
        "    (SVC,\n",
        "    {'kernel':['linear','rbf'], 'C':[1, 10]}\n",
        "    ),\n",
        "    (GradientBoostingClassifier,\n",
        "    {'max_depth': [15, 9]})\n",
        "]"
      ],
      "execution_count": 51,
      "outputs": []
    },
    {
      "cell_type": "code",
      "metadata": {
        "colab": {
          "base_uri": "https://localhost:8080/"
        },
        "id": "OzD3UD7wwXjl",
        "outputId": "af56603c-ca80-416b-9799-84cf29d714dd"
      },
      "source": [
        "accuracies=[]\n",
        "for classifier, grid in classifiers_to_try_out:\n",
        "    accuracy = grid_search_classifier(classifier, X_train_v, y_train,X_test_v,y_test, grid)\n",
        "    accuracies.append({'Classifier': str(classifier),'f1_score':accuracy})\n",
        "    \n",
        "#print(accuracies)\n",
        "classwiseaccuracy = pd.DataFrame(accuracies)"
      ],
      "execution_count": 53,
      "outputs": [
        {
          "output_type": "stream",
          "text": [
            "<class 'sklearn.ensemble._weight_boosting.AdaBoostClassifier'>\n",
            "0.469871236368534 {'n_estimators': 100}\n",
            "<class 'sklearn.tree._classes.DecisionTreeClassifier'>\n",
            "0.3826587078202464 {'max_depth': 19, 'min_samples_split': 4}\n",
            "<class 'sklearn.ensemble._forest.RandomForestClassifier'>\n",
            "0.49103647786625243 {'criterion': 'gini', 'n_estimators': 30}\n",
            "<class 'sklearn.svm._classes.SVC'>\n",
            "0.5678301264517724 {'C': 10, 'kernel': 'rbf'}\n",
            "<class 'sklearn.ensemble._gb.GradientBoostingClassifier'>\n",
            "0.5225317366083914 {'max_depth': 9}\n"
          ],
          "name": "stdout"
        }
      ]
    },
    {
      "cell_type": "code",
      "metadata": {
        "colab": {
          "base_uri": "https://localhost:8080/",
          "height": 204
        },
        "id": "60yUQEggwbC0",
        "outputId": "a38857df-0b47-401e-903f-63fd7479457b"
      },
      "source": [
        "classwiseaccuracy"
      ],
      "execution_count": 54,
      "outputs": [
        {
          "output_type": "execute_result",
          "data": {
            "text/html": [
              "<div>\n",
              "<style scoped>\n",
              "    .dataframe tbody tr th:only-of-type {\n",
              "        vertical-align: middle;\n",
              "    }\n",
              "\n",
              "    .dataframe tbody tr th {\n",
              "        vertical-align: top;\n",
              "    }\n",
              "\n",
              "    .dataframe thead th {\n",
              "        text-align: right;\n",
              "    }\n",
              "</style>\n",
              "<table border=\"1\" class=\"dataframe\">\n",
              "  <thead>\n",
              "    <tr style=\"text-align: right;\">\n",
              "      <th></th>\n",
              "      <th>Classifier</th>\n",
              "      <th>f1_score</th>\n",
              "    </tr>\n",
              "  </thead>\n",
              "  <tbody>\n",
              "    <tr>\n",
              "      <th>0</th>\n",
              "      <td>&lt;class 'sklearn.ensemble._weight_boosting.AdaB...</td>\n",
              "      <td>0.510015</td>\n",
              "    </tr>\n",
              "    <tr>\n",
              "      <th>1</th>\n",
              "      <td>&lt;class 'sklearn.tree._classes.DecisionTreeClas...</td>\n",
              "      <td>0.397658</td>\n",
              "    </tr>\n",
              "    <tr>\n",
              "      <th>2</th>\n",
              "      <td>&lt;class 'sklearn.ensemble._forest.RandomForestC...</td>\n",
              "      <td>0.522185</td>\n",
              "    </tr>\n",
              "    <tr>\n",
              "      <th>3</th>\n",
              "      <td>&lt;class 'sklearn.svm._classes.SVC'&gt;</td>\n",
              "      <td>0.605022</td>\n",
              "    </tr>\n",
              "    <tr>\n",
              "      <th>4</th>\n",
              "      <td>&lt;class 'sklearn.ensemble._gb.GradientBoostingC...</td>\n",
              "      <td>0.561711</td>\n",
              "    </tr>\n",
              "  </tbody>\n",
              "</table>\n",
              "</div>"
            ],
            "text/plain": [
              "                                          Classifier  f1_score\n",
              "0  <class 'sklearn.ensemble._weight_boosting.AdaB...  0.510015\n",
              "1  <class 'sklearn.tree._classes.DecisionTreeClas...  0.397658\n",
              "2  <class 'sklearn.ensemble._forest.RandomForestC...  0.522185\n",
              "3                 <class 'sklearn.svm._classes.SVC'>  0.605022\n",
              "4  <class 'sklearn.ensemble._gb.GradientBoostingC...  0.561711"
            ]
          },
          "metadata": {
            "tags": []
          },
          "execution_count": 54
        }
      ]
    },
    {
      "cell_type": "code",
      "metadata": {
        "id": "0I0H4FB34VE0"
      },
      "source": [
        ""
      ],
      "execution_count": null,
      "outputs": []
    }
  ]
}